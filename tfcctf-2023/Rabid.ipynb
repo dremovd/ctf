{
 "cells": [
  {
   "cell_type": "code",
   "execution_count": 10,
   "id": "0a599cc7",
   "metadata": {},
   "outputs": [
    {
     "name": "stdout",
     "output_type": "stream",
     "text": [
      "Error occurred: 'utf-8' codec can't decode byte 0xe4 in position 7: invalid continuation byte\n"
     ]
    },
    {
     "data": {
      "text/plain": [
       "b'TFCCTF{]\\xe4\\xc1\\xd5}\\xc8\\xd1\\x88\\xc5\\x91}\\x90\\xc1\\x9c\\xfc\\x84\\xfc\\x84\\xfc\\x84\\xfc\\x84\\xfc\\x84\\xf8\\xbc\\xf8\\xfc\\xf8\\xfc\\xf8\\xc4\\xc8\\xcc\\xe4\\xc1\\xa9\\x8d\\x85\\xc1\\xcd\\xad\\x91\\xa8\\xc0\\xe4\\xc5\\xc9\\x85\\xb9\\x91\\xbd\\xb5\\xb1\\x95\\xd1\\xd1\\x95\\xc9\\xcd\\x85\\xb9\\x91\\xb9\\xd5\\xb5\\x89\\x95\\xc9\\xcd\\xc9\\x95\\x95\\x95\\x94\\xc9\\xa8\\xcd\\xf4'"
      ]
     },
     "execution_count": 10,
     "metadata": {},
     "output_type": "execute_result"
    }
   ],
   "source": [
    "import base64\n",
    "\n",
    "# Define the base64 encoded string\n",
    "base64_string = \"VEZDQ1RGe13kwdV9yNGIxZF9kMGc/IT8hPyE/IT8hPi8+Pz4/PjEyMzkwamNhcHNrZGowOTFyYW5kb21sZXR0ZXJzYW5kbnVtYmVyc3JlZWVlMmozfQ==\"\n",
    "\n",
    "# Try to decode the string and handle any error that may occur\n",
    "try:\n",
    "    decoded_base64_string = base64.b64decode(base64_string).replace(b']', b'', 1).decode()\n",
    "except Exception as e:\n",
    "    print(f\"Error occurred: {e}\")\n",
    "    decoded_base64_string = base64.b64decode(base64_string)\n",
    "\n",
    "decoded_base64_string"
   ]
  },
  {
   "cell_type": "code",
   "execution_count": 32,
   "id": "16121559",
   "metadata": {},
   "outputs": [
    {
     "data": {
      "text/plain": [
       "'01111101'"
      ]
     },
     "execution_count": 32,
     "metadata": {},
     "output_type": "execute_result"
    }
   ],
   "source": [
    "f'{ord(\"}\"):08b}'"
   ]
  },
  {
   "cell_type": "code",
   "execution_count": 48,
   "id": "75fab06d",
   "metadata": {},
   "outputs": [
    {
     "name": "stdout",
     "output_type": "stream",
     "text": [
      "010111011110010011000001110101010111110111001000110100011000100011000101100100010111110110010000110000011001110011111100100001001111110010000100111111001000010011111100100001001111110010000100111110001011110011111000111111001111100011111100111110001100010011001000110011001110010011000001101010011000110110000101110000011100110110101101100100011010100011000000111001001100010111001001100001011011100110010001101111011011010110110001100101011101000111010001100101011100100111001101100001011011100110010001101110011101010110110101100010011001010111001001110011011100100110010101100101011001010110010100110010011010100011001101111101\n",
      "630\n",
      "\u0017y0u_r4b1d_d0g?!?!?!?!?!>/>?>?>12390jcapskdj091randomlettersandnumbersreeee2j3}\n"
     ]
    }
   ],
   "source": [
    "binary_data = b']\\xe4\\xc1\\xd5}\\xc8\\xd1\\x88\\xc5\\x91}\\x90\\xc1\\x9c\\xfc\\x84\\xfc\\x84\\xfc\\x84\\xfc\\x84\\xfc\\x84\\xf8\\xbc\\xf8\\xfc\\xf8\\xfc\\xf8\\xc4\\xc8\\xcc\\xe4\\xc1\\xa9\\x8d\\x85\\xc1\\xcd\\xad\\x91\\xa8\\xc0\\xe4\\xc5\\xc9\\x85\\xb9\\x91\\xbd\\xb5\\xb1\\x95\\xd1\\xd1\\x95\\xc9\\xcd\\x85\\xb9\\x91\\xb9\\xd5\\xb5\\x89\\x95\\xc9\\xcd\\xc9\\x95\\x95\\x95\\x94\\xc9\\xa8\\xcd\\xf4'\n",
    "\n",
    "binary_string = \"\".join(f\"{byte:08b}\" for byte in binary_data)\n",
    "print(binary_string[:-2])\n",
    "binary_string = binary_string[:-2]\n",
    "s = []\n",
    "print(len(binary_string))\n",
    "step = 8\n",
    "for offset in range(0, len(binary_string), step):\n",
    "    b = binary_string[::-1][offset:offset + step][::-1]\n",
    "    if b:\n",
    "        s.append(chr(int(b, 2)))\n",
    "    else:\n",
    "        s.append('?')\n",
    "    \n",
    "print(''.join(s[::-1]))"
   ]
  },
  {
   "cell_type": "code",
   "execution_count": 14,
   "id": "5c0f67e6",
   "metadata": {},
   "outputs": [
    {
     "data": {
      "text/plain": [
       "93"
      ]
     },
     "execution_count": 14,
     "metadata": {},
     "output_type": "execute_result"
    }
   ],
   "source": [
    "ord(']')"
   ]
  },
  {
   "cell_type": "code",
   "execution_count": 12,
   "id": "8715f789",
   "metadata": {},
   "outputs": [
    {
     "data": {
      "text/plain": [
       "125"
      ]
     },
     "execution_count": 12,
     "metadata": {},
     "output_type": "execute_result"
    }
   ],
   "source": [
    "ord('}'.encode())"
   ]
  },
  {
   "cell_type": "code",
   "execution_count": 16,
   "id": "4cace69c",
   "metadata": {},
   "outputs": [
    {
     "data": {
      "text/plain": [
       "205"
      ]
     },
     "execution_count": 16,
     "metadata": {},
     "output_type": "execute_result"
    }
   ],
   "source": [
    "ord(b'\\xcd')"
   ]
  },
  {
   "cell_type": "code",
   "execution_count": 13,
   "id": "84412e3b",
   "metadata": {},
   "outputs": [
    {
     "data": {
      "text/plain": [
       "244"
      ]
     },
     "execution_count": 13,
     "metadata": {},
     "output_type": "execute_result"
    }
   ],
   "source": [
    "ord(b'\\xf4')"
   ]
  },
  {
   "cell_type": "code",
   "execution_count": null,
   "id": "f93b0786",
   "metadata": {},
   "outputs": [],
   "source": []
  },
  {
   "cell_type": "code",
   "execution_count": 7,
   "id": "3ac06b44",
   "metadata": {},
   "outputs": [
    {
     "data": {
      "text/plain": [
       "['T',\n",
       " 'F',\n",
       " 'C',\n",
       " 'C',\n",
       " 'T',\n",
       " 'F',\n",
       " '{',\n",
       " ']',\n",
       " 'ä',\n",
       " 'Á',\n",
       " 'Õ',\n",
       " '}',\n",
       " 'È',\n",
       " 'Ñ',\n",
       " '\\x88',\n",
       " 'Å',\n",
       " '\\x91',\n",
       " '}',\n",
       " '\\x90',\n",
       " 'Á',\n",
       " '\\x9c',\n",
       " 'ü',\n",
       " '\\x84',\n",
       " 'ü',\n",
       " '\\x84',\n",
       " 'ü',\n",
       " '\\x84',\n",
       " 'ü',\n",
       " '\\x84',\n",
       " 'ü',\n",
       " '\\x84',\n",
       " 'ø',\n",
       " '¼',\n",
       " 'ø',\n",
       " 'ü',\n",
       " 'ø',\n",
       " 'ü',\n",
       " 'ø',\n",
       " 'Ä',\n",
       " 'È',\n",
       " 'Ì',\n",
       " 'ä',\n",
       " 'Á',\n",
       " '©',\n",
       " '\\x8d',\n",
       " '\\x85',\n",
       " 'Á',\n",
       " 'Í',\n",
       " '\\xad',\n",
       " '\\x91',\n",
       " '¨',\n",
       " 'À',\n",
       " 'ä',\n",
       " 'Å',\n",
       " 'É',\n",
       " '\\x85',\n",
       " '¹',\n",
       " '\\x91',\n",
       " '½',\n",
       " 'µ',\n",
       " '±',\n",
       " '\\x95',\n",
       " 'Ñ',\n",
       " 'Ñ',\n",
       " '\\x95',\n",
       " 'É',\n",
       " 'Í',\n",
       " '\\x85',\n",
       " '¹',\n",
       " '\\x91',\n",
       " '¹',\n",
       " 'Õ',\n",
       " 'µ',\n",
       " '\\x89',\n",
       " '\\x95',\n",
       " 'É',\n",
       " 'Í',\n",
       " 'É',\n",
       " '\\x95',\n",
       " '\\x95',\n",
       " '\\x95',\n",
       " '\\x94',\n",
       " 'É',\n",
       " '¨',\n",
       " 'Í',\n",
       " 'ô']"
      ]
     },
     "execution_count": 7,
     "metadata": {},
     "output_type": "execute_result"
    }
   ],
   "source": [
    "[chr(c) for c in ]"
   ]
  },
  {
   "cell_type": "code",
   "execution_count": null,
   "id": "62795dee",
   "metadata": {},
   "outputs": [],
   "source": []
  }
 ],
 "metadata": {
  "kernelspec": {
   "display_name": "py310",
   "language": "python",
   "name": "py310"
  },
  "language_info": {
   "codemirror_mode": {
    "name": "ipython",
    "version": 3
   },
   "file_extension": ".py",
   "mimetype": "text/x-python",
   "name": "python",
   "nbconvert_exporter": "python",
   "pygments_lexer": "ipython3",
   "version": "3.10.11"
  }
 },
 "nbformat": 4,
 "nbformat_minor": 5
}
