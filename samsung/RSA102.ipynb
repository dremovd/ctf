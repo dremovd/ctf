{
 "cells": [
  {
   "cell_type": "code",
   "execution_count": 1,
   "id": "249c8b17",
   "metadata": {},
   "outputs": [],
   "source": [
    "# Defining the public keys for Alice and Bob\n",
    "pubkeys = dict()\n",
    "\n",
    "# Alice's RSA public key\n",
    "pubkeys['Alice'] = {\n",
    "    'n': 0xd244a731d125aa8cbbccc5aa44b70686b432589d7a472269059055119e258e471df27d0f08c3c5e109829381754745f47b6bb3a5e3cc5a3b63766aa8c929290596de12234c244d6746398cc81f774441946c6d0444ce23ab146c33876cf84dc122eb0d42c4437e969ad8b72fbc399c82abd2e153e8d27dff56f517c5cb980853,\n",
    "    'e': 79\n",
    "}\n",
    "\n",
    "# Bob's RSA public key\n",
    "pubkeys['Bob'] = {\n",
    "    'n': 0xd244a731d125aa8cbbccc5aa44b70686b432589d7a472269059055119e258e471df27d0f08c3c5e109829381754745f47b6bb3a5e3cc5a3b63766aa8c929290596de12234c244d6746398cc81f774441946c6d0444ce23ab146c33876cf84dc122eb0d42c4437e969ad8b72fbc399c82abd2e153e8d27dff56f517c5cb980853,\n",
    "    'e': 61\n",
    "}"
   ]
  },
  {
   "cell_type": "code",
   "execution_count": 2,
   "id": "8daa79da",
   "metadata": {},
   "outputs": [
    {
     "data": {
      "text/plain": [
       "'SCTF{R4ndOm_p4dd1n9_t0_pr3vEnt_RSA_c0mmOn_m0dulu5_a44ack}'"
      ]
     },
     "execution_count": 2,
     "metadata": {},
     "output_type": "execute_result"
    }
   ],
   "source": [
    "from Crypto.Util.number import long_to_bytes\n",
    "\n",
    "# Extended Euclidean Algorithm to find a and b\n",
    "def extended_gcd(a, b):\n",
    "    if b == 0:\n",
    "        return 1, 0\n",
    "    else:\n",
    "        x, y = extended_gcd(b, a % b)\n",
    "        return y, x - y * (a // b)\n",
    "\n",
    "def common_modulus_attack(c1, c2, e1, e2, n):\n",
    "    # Ensure that e1 > e2\n",
    "    if e1 < e2:\n",
    "        e1, e2 = e2, e1\n",
    "        c1, c2 = c2, c1\n",
    "\n",
    "    # Find a and b such that e1*a + e2*b = gcd(e1, e2) = 1\n",
    "    a, b = extended_gcd(e1, e2)\n",
    "\n",
    "    # Calculate the plaintext\n",
    "    if b < 0:\n",
    "        c2_inv = pow(c2, -1, n)  # Inverse of c2 mod n\n",
    "        b = -b\n",
    "        m = (pow(c1, a, n) * pow(c2_inv, b, n)) % n\n",
    "    else:\n",
    "        m = (pow(c1, a, n) * pow(c2, b, n)) % n\n",
    "\n",
    "    return long_to_bytes(m).decode()\n",
    "\n",
    "# Alice's encrypted message\n",
    "c1 = 0x55edc128e01d6a94d92482d4136a60c5db5e295aec9c38e4029649bfc42eb350cf3ccdddc101c5a81d1251f9b061fe55b436eaba101b0238db479e795661ad64dd0e04898bdd637d33b15c155d1141e70efc84923c126f7d93582d5783544780c9a29818a8f47bad2e47967f7609aa3e6caabbd153c77def6d20e7ed4ac267a8\n",
    "# Bob's encrypted message\n",
    "c2 = 0xcad43d8d2bcb9ab05133e0923896426544fd8a93e80e0b10efc36019b8a7365390b30530f240b25d3affa6ed03983548fe17f085fe3f04a6bd80aa9093eda484e7c9a120e770000570a2044f7aa6ea5dc25ef082c352205f710b07423160b70f100800d3dedf89843a19208054550f22936fe510e7a98fe1c557b7657abfb77b\n",
    "\n",
    "n = pubkeys['Alice']['n']\n",
    "e1 = pubkeys['Alice']['e']\n",
    "e2 = pubkeys['Bob']['e']\n",
    "\n",
    "notice = common_modulus_attack(c1, c2, e1, e2, n)\n",
    "notice\n"
   ]
  }
 ],
 "metadata": {
  "kernelspec": {
   "display_name": "py310",
   "language": "python",
   "name": "py310"
  },
  "language_info": {
   "codemirror_mode": {
    "name": "ipython",
    "version": 3
   },
   "file_extension": ".py",
   "mimetype": "text/x-python",
   "name": "python",
   "nbconvert_exporter": "python",
   "pygments_lexer": "ipython3",
   "version": "3.10.11"
  }
 },
 "nbformat": 4,
 "nbformat_minor": 5
}
