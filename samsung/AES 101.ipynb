{
 "cells": [
  {
   "cell_type": "markdown",
   "id": "280448b3",
   "metadata": {},
   "source": [
    "A padding oracle attack is a cryptographic attack that exploits the way some cryptographic algorithms handle padding. It's a powerful attack that allows an attacker to decrypt encrypted data without knowing the encryption key. Here's an in-depth explanation, assuming a background in number theory and programming but not specifically in cryptography.\n",
    "\n",
    "### Padding in Cryptography\n",
    "\n",
    "Many cryptographic algorithms operate on fixed-size blocks of data (e.g., 16 bytes for AES). When the plaintext is not a multiple of the block size, it must be padded to fill the last block. A common padding scheme is PKCS7, where the padding consists of a sequence of bytes, each of which is the number of padding bytes added.\n",
    "\n",
    "For example, if 3 bytes of padding are needed, the padding would be `03 03 03`.\n",
    "\n",
    "### What is a Padding Oracle?\n",
    "\n",
    "A padding oracle is a system that reveals whether a given ciphertext has correct or incorrect padding after decryption. This can be an explicit error message, a timing difference, or any other observable behavior that allows an attacker to distinguish between correct and incorrect padding.\n",
    "\n",
    "### The Padding Oracle Attack\n",
    "\n",
    "The padding oracle attack exploits the information leaked by the padding oracle to decrypt ciphertexts.\n",
    "\n",
    "#### 1. Understanding CBC Mode\n",
    "\n",
    "In Cipher Block Chaining (CBC) mode, each block of ciphertext is decrypted and then XORed with the previous block of ciphertext to obtain the plaintext. The first block is XORed with an Initialization Vector (IV).\n",
    "\n",
    "The decryption of block \\(i\\) in CBC mode can be expressed as:\n",
    "\n",
    "\\[\n",
    "\\text{{Plaintext}}[i] = \\text{{Decryption}}(\\text{{Ciphertext}}[i]) \\oplus \\text{{Ciphertext}}[i-1]\n",
    "\\]\n",
    "\n",
    "#### 2. Exploiting the Padding Oracle\n",
    "\n",
    "The attacker can manipulate the IV or a previous block of ciphertext and observe the padding oracle's response to deduce information about the plaintext.\n",
    "\n",
    "#### 3. Decrypting One Block\n",
    "\n",
    "To decrypt one block of ciphertext, the attacker proceeds byte by byte:\n",
    "\n",
    "- **Choose a Byte to Attack**: Start with the last byte and work backward.\n",
    "- **Manipulate the IV/Ciphertext**: For each possible value (0 to 255) of the targeted byte, modify the corresponding byte in the IV or previous ciphertext block and submit it to the padding oracle.\n",
    "- **Observe the Oracle's Response**: If the padding is correct, the attacker knows that the manipulated byte in the IV/ciphertext, when XORed with the corresponding byte in the decrypted block, produces the correct padding value.\n",
    "- **Deduce the Plaintext Byte**: Calculate the plaintext byte using the known value that produced correct padding and the original value of the manipulated byte in the IV/ciphertext.\n",
    "- **Repeat for Each Byte**: Repeat this process for each byte in the block, adjusting the manipulated bytes to produce the expected padding for each step.\n",
    "\n",
    "#### 4. Decrypting Multiple Blocks\n",
    "\n",
    "The attack can be extended to multiple blocks by manipulating the previous block of ciphertext instead of the IV. The process is the same as for the first block.\n",
    "\n",
    "### Why It's Powerful\n",
    "\n",
    "The padding oracle attack is powerful because it only requires the ability to send arbitrary ciphertexts to the server and observe whether the padding is correct or incorrect. It doesn't require knowledge of the encryption key or any other secret information.\n",
    "\n",
    "### Mitigations\n",
    "\n",
    "- **Avoid Leaking Padding Information**: Don't provide any information about padding errors. Treat padding errors the same as any other decryption failure.\n",
    "- **Use Authenticated Encryption**: Authenticated encryption modes like AES-GCM provide integrity checks that prevent the manipulation of ciphertexts.\n",
    "\n",
    "### Conclusion\n",
    "\n",
    "The padding oracle attack is an elegant and powerful attack that exploits subtle information leaks in cryptographic implementations. It illustrates the principle that secure encryption involves not just strong algorithms but also careful handling of all aspects of the encryption and decryption process."
   ]
  },
  {
   "cell_type": "code",
   "execution_count": 17,
   "id": "81413154",
   "metadata": {},
   "outputs": [],
   "source": [
    "import socket\n",
    "from tqdm.auto import tqdm\n",
    "\n",
    "def padding_oracle_attack(initial_guess):\n",
    "    # Initial IV and ciphertext (all zeros)\n",
    "    iv = bytes(16)\n",
    "    ciphertext = bytes(16)\n",
    "    \n",
    "    # Placeholder for the decrypted block\n",
    "    decrypted_block = [0] * 16\n",
    "    \n",
    "    # Iterate through each byte in the block\n",
    "    for byte_position in tqdm(range(15, -1, -1)):\n",
    "        # Padding value for the current byte position\n",
    "        padding_value = 16 - byte_position\n",
    "        \n",
    "        # Iterate through possible byte values (0 to 255)\n",
    "        for guess in tqdm(range(256)):\n",
    "            guess = (initial_guess[byte_position] + guess) % 256\n",
    "            # Craft a new IV based on the current guess and known decrypted bytes\n",
    "            crafted_iv = bytearray(iv)\n",
    "            for i in range(byte_position + 1, 16):\n",
    "                crafted_iv[i] ^= decrypted_block[i] ^ padding_value\n",
    "            crafted_iv[byte_position] ^= guess\n",
    "            \n",
    "            # Send the crafted IV and ciphertext to the server\n",
    "            if connection.send(crafted_iv, ciphertext):\n",
    "                # If padding is correct, store the decrypted byte value\n",
    "                decrypted_byte = guess ^ padding_value\n",
    "                decrypted_block[byte_position] = decrypted_byte\n",
    "                break\n",
    "    \n",
    "    # Convert the decrypted block to bytes and return\n",
    "    return bytes(decrypted_block)\n",
    "\n",
    "\n",
    "class ServerConnection:\n",
    "    def __init__(self):\n",
    "        self.HOST = \"aes.sstf.site\"\n",
    "        self.PORT = 1337\n",
    "        self.socket = socket.socket(socket.AF_INET, socket.SOCK_STREAM)\n",
    "        self.socket.connect((self.HOST, self.PORT))\n",
    "\n",
    "    def send(self, iv, ciphertext):\n",
    "        # Receive and wait for the IV prompt\n",
    "        self.socket.recv(1024)\n",
    "        self.socket.sendall(iv.hex().encode() + b'\\n')\n",
    "\n",
    "        # Receive and wait for the ciphertext prompt\n",
    "        self.socket.recv(1024)\n",
    "        self.socket.sendall(ciphertext.hex().encode() + b'\\n')\n",
    "\n",
    "        # Receive the response\n",
    "        response = self.socket.recv(1024).decode()\n",
    "\n",
    "        # Analyze the response to determine if the padding is correct\n",
    "        # You may need to adjust this condition based on the server's response\n",
    "        if \"Try again.\" in response:\n",
    "            print(f\"response: {response}\")\n",
    "            return False\n",
    "        elif \"Wrong CipherText.\" in response:\n",
    "            return response\n",
    "        else:\n",
    "            print(f\"response: {response}\")\n",
    "            raise ValueError()\n",
    "            # return response\n",
    "        \n",
    "    def close(self):\n",
    "        self.socket.close()\n",
    "        \n",
    "connection = ServerConnection()"
   ]
  },
  {
   "cell_type": "code",
   "execution_count": 15,
   "id": "497dc0c0",
   "metadata": {},
   "outputs": [
    {
     "data": {
      "text/plain": [
       "[76, 139, 8, 185, 17, 144, 148, 49, 72, 124, 203, 195, 116, 34, 73, 92]"
      ]
     },
     "execution_count": 15,
     "metadata": {},
     "output_type": "execute_result"
    }
   ],
   "source": [
    "output = \"\"\"30%\n",
    "76/256 [00:58<02:15, 1.33it/s]\n",
    "54%\n",
    "139/256 [01:46<01:28, 1.33it/s]\n",
    "3%\n",
    "8/256 [00:06<03:08, 1.31it/s]\n",
    "72%\n",
    "185/256 [02:20<00:54, 1.31it/s]\n",
    "7%\n",
    "17/256 [00:13<03:02, 1.31it/s]\n",
    "56%\n",
    "144/256 [01:49<01:24, 1.33it/s]\n",
    "58%\n",
    "148/256 [01:53<01:24, 1.28it/s]\n",
    "19%\n",
    "49/256 [00:38<02:37, 1.31it/s]\n",
    "28%\n",
    "72/256 [00:55<02:20, 1.31it/s]\n",
    "48%\n",
    "124/256 [01:34<01:40, 1.31it/s]\n",
    "79%\n",
    "203/256 [02:34<00:40, 1.31it/s]\n",
    "76%\n",
    "195/256 [02:28<00:46, 1.31it/s]\n",
    "45%\n",
    "116/256 [01:29<01:48, 1.29it/s]\n",
    "13%\n",
    "34/256 [00:26<02:49, 1.31it/s]\n",
    "29%\n",
    "73/256 [00:56<02:19, 1.31it/s]\n",
    "36%\n",
    "92/256 [01:10<02:03, 1.33it/s]\"\"\"\n",
    "\n",
    "decrypted_block_ints = []\n",
    "for line in output.split('\\n'):\n",
    "    if '256' in line:\n",
    "        byte = line.split('/256')[0]\n",
    "        decrypted_block_ints.append(int(byte))\n",
    "        \n",
    "decrypted_block_ints"
   ]
  },
  {
   "cell_type": "code",
   "execution_count": 12,
   "id": "36c244ed",
   "metadata": {},
   "outputs": [
    {
     "data": {
      "application/vnd.jupyter.widget-view+json": {
       "model_id": "11d1c2b7534e4fc4a64644760c3f3475",
       "version_major": 2,
       "version_minor": 0
      },
      "text/plain": [
       "  0%|          | 0/16 [00:00<?, ?it/s]"
      ]
     },
     "metadata": {},
     "output_type": "display_data"
    },
    {
     "data": {
      "application/vnd.jupyter.widget-view+json": {
       "model_id": "a120285e804e49bc9adc19b45ad6a323",
       "version_major": 2,
       "version_minor": 0
      },
      "text/plain": [
       "  0%|          | 0/256 [00:00<?, ?it/s]"
      ]
     },
     "metadata": {},
     "output_type": "display_data"
    },
    {
     "data": {
      "application/vnd.jupyter.widget-view+json": {
       "model_id": "263241975120473680de2677eb79cdf1",
       "version_major": 2,
       "version_minor": 0
      },
      "text/plain": [
       "  0%|          | 0/256 [00:00<?, ?it/s]"
      ]
     },
     "metadata": {},
     "output_type": "display_data"
    },
    {
     "data": {
      "application/vnd.jupyter.widget-view+json": {
       "model_id": "2953206ffcf74b0e908c7cde1ca612c1",
       "version_major": 2,
       "version_minor": 0
      },
      "text/plain": [
       "  0%|          | 0/256 [00:00<?, ?it/s]"
      ]
     },
     "metadata": {},
     "output_type": "display_data"
    },
    {
     "data": {
      "application/vnd.jupyter.widget-view+json": {
       "model_id": "f3c5d63f2a0b4e299fa5cc8d61711927",
       "version_major": 2,
       "version_minor": 0
      },
      "text/plain": [
       "  0%|          | 0/256 [00:00<?, ?it/s]"
      ]
     },
     "metadata": {},
     "output_type": "display_data"
    },
    {
     "data": {
      "application/vnd.jupyter.widget-view+json": {
       "model_id": "7684a61219d04da786eb48b21bb4a225",
       "version_major": 2,
       "version_minor": 0
      },
      "text/plain": [
       "  0%|          | 0/256 [00:00<?, ?it/s]"
      ]
     },
     "metadata": {},
     "output_type": "display_data"
    },
    {
     "data": {
      "application/vnd.jupyter.widget-view+json": {
       "model_id": "ccfad5376932446d8f582bcba0cb7879",
       "version_major": 2,
       "version_minor": 0
      },
      "text/plain": [
       "  0%|          | 0/256 [00:00<?, ?it/s]"
      ]
     },
     "metadata": {},
     "output_type": "display_data"
    },
    {
     "data": {
      "application/vnd.jupyter.widget-view+json": {
       "model_id": "f1c890abaa8d429faf2216835b0db46a",
       "version_major": 2,
       "version_minor": 0
      },
      "text/plain": [
       "  0%|          | 0/256 [00:00<?, ?it/s]"
      ]
     },
     "metadata": {},
     "output_type": "display_data"
    },
    {
     "data": {
      "application/vnd.jupyter.widget-view+json": {
       "model_id": "2fbaa57064ba420db515aec5b6f1df66",
       "version_major": 2,
       "version_minor": 0
      },
      "text/plain": [
       "  0%|          | 0/256 [00:00<?, ?it/s]"
      ]
     },
     "metadata": {},
     "output_type": "display_data"
    },
    {
     "data": {
      "application/vnd.jupyter.widget-view+json": {
       "model_id": "fe1e243a85dd40f38b1d6220ef984c57",
       "version_major": 2,
       "version_minor": 0
      },
      "text/plain": [
       "  0%|          | 0/256 [00:00<?, ?it/s]"
      ]
     },
     "metadata": {},
     "output_type": "display_data"
    },
    {
     "data": {
      "application/vnd.jupyter.widget-view+json": {
       "model_id": "496e72d700b145c7b6d88e91244a1745",
       "version_major": 2,
       "version_minor": 0
      },
      "text/plain": [
       "  0%|          | 0/256 [00:00<?, ?it/s]"
      ]
     },
     "metadata": {},
     "output_type": "display_data"
    },
    {
     "data": {
      "application/vnd.jupyter.widget-view+json": {
       "model_id": "24633d770f594ec8ad9ba5f07b0defc4",
       "version_major": 2,
       "version_minor": 0
      },
      "text/plain": [
       "  0%|          | 0/256 [00:00<?, ?it/s]"
      ]
     },
     "metadata": {},
     "output_type": "display_data"
    },
    {
     "data": {
      "application/vnd.jupyter.widget-view+json": {
       "model_id": "a84a03555dd2422a9e2d056cc2275264",
       "version_major": 2,
       "version_minor": 0
      },
      "text/plain": [
       "  0%|          | 0/256 [00:00<?, ?it/s]"
      ]
     },
     "metadata": {},
     "output_type": "display_data"
    },
    {
     "data": {
      "application/vnd.jupyter.widget-view+json": {
       "model_id": "ab7e7aa2cf20482783401026482c669d",
       "version_major": 2,
       "version_minor": 0
      },
      "text/plain": [
       "  0%|          | 0/256 [00:00<?, ?it/s]"
      ]
     },
     "metadata": {},
     "output_type": "display_data"
    },
    {
     "data": {
      "application/vnd.jupyter.widget-view+json": {
       "model_id": "42ad8cdd99cd4487a69a393dc8e34c60",
       "version_major": 2,
       "version_minor": 0
      },
      "text/plain": [
       "  0%|          | 0/256 [00:00<?, ?it/s]"
      ]
     },
     "metadata": {},
     "output_type": "display_data"
    },
    {
     "data": {
      "application/vnd.jupyter.widget-view+json": {
       "model_id": "c73b814dab474fe1bab63b053c651f5a",
       "version_major": 2,
       "version_minor": 0
      },
      "text/plain": [
       "  0%|          | 0/256 [00:00<?, ?it/s]"
      ]
     },
     "metadata": {},
     "output_type": "display_data"
    },
    {
     "data": {
      "application/vnd.jupyter.widget-view+json": {
       "model_id": "b02de977ec82423fa5180f853ecf9243",
       "version_major": 2,
       "version_minor": 0
      },
      "text/plain": [
       "  0%|          | 0/256 [00:00<?, ?it/s]"
      ]
     },
     "metadata": {},
     "output_type": "display_data"
    }
   ],
   "source": [
    "decrypted_block = padding_oracle_attack(decrypted_block_ints[::-1])"
   ]
  },
  {
   "cell_type": "code",
   "execution_count": 14,
   "id": "558c03a1",
   "metadata": {},
   "outputs": [
    {
     "data": {
      "text/plain": [
       "b'LF,y\\xcf\\xc0vA9\\x93\\x96\\x14\\xbd\\x0b\\x89M'"
      ]
     },
     "execution_count": 14,
     "metadata": {},
     "output_type": "execute_result"
    }
   ],
   "source": [
    "decrypted_block"
   ]
  },
  {
   "cell_type": "code",
   "execution_count": 20,
   "id": "a83cb930",
   "metadata": {},
   "outputs": [
    {
     "name": "stdout",
     "output_type": "stream",
     "text": [
      "16 b'CBC Magic!\\x06\\x06\\x06\\x06\\x06\\x06'\n",
      "16 b'\\x0f\\x04oY\\x82\\xa1\\x11(Z\\xb2\\x90\\x12\\xbb\\r\\x8fK'\n",
      "16 b'\\x00\\x00\\x00\\x00\\x00\\x00\\x00\\x00\\x00\\x00\\x00\\x00\\x00\\x00\\x00\\x00'\n",
      "\n",
      "response: SCTF{CBC_p4dd1n9_0racle_477ack_5tArts_h3re}\n",
      "\n"
     ]
    },
    {
     "ename": "ValueError",
     "evalue": "",
     "output_type": "error",
     "traceback": [
      "\u001b[0;31m---------------------------------------------------------------------------\u001b[0m",
      "\u001b[0;31mValueError\u001b[0m                                Traceback (most recent call last)",
      "Cell \u001b[0;32mIn[20], line 17\u001b[0m\n\u001b[1;32m     15\u001b[0m \u001b[38;5;66;03m# Send the IV and ciphertext to the server\u001b[39;00m\n\u001b[1;32m     16\u001b[0m \u001b[38;5;28mprint\u001b[39m()\n\u001b[0;32m---> 17\u001b[0m response \u001b[38;5;241m=\u001b[39m \u001b[43mconnection\u001b[49m\u001b[38;5;241;43m.\u001b[39;49m\u001b[43msend\u001b[49m\u001b[43m(\u001b[49m\u001b[43miv\u001b[49m\u001b[43m,\u001b[49m\u001b[43m \u001b[49m\u001b[43mciphertext\u001b[49m\u001b[43m)\u001b[49m\n\u001b[1;32m     19\u001b[0m \u001b[38;5;66;03m# Print the response\u001b[39;00m\n\u001b[1;32m     20\u001b[0m \u001b[38;5;28mprint\u001b[39m(response)\n",
      "Cell \u001b[0;32mIn[17], line 65\u001b[0m, in \u001b[0;36mServerConnection.send\u001b[0;34m(self, iv, ciphertext)\u001b[0m\n\u001b[1;32m     63\u001b[0m \u001b[38;5;28;01melse\u001b[39;00m:\n\u001b[1;32m     64\u001b[0m     \u001b[38;5;28mprint\u001b[39m(\u001b[38;5;124mf\u001b[39m\u001b[38;5;124m\"\u001b[39m\u001b[38;5;124mresponse: \u001b[39m\u001b[38;5;132;01m{\u001b[39;00mresponse\u001b[38;5;132;01m}\u001b[39;00m\u001b[38;5;124m\"\u001b[39m)\n\u001b[0;32m---> 65\u001b[0m     \u001b[38;5;28;01mraise\u001b[39;00m \u001b[38;5;167;01mValueError\u001b[39;00m()\n",
      "\u001b[0;31mValueError\u001b[0m: "
     ]
    }
   ],
   "source": [
    "connection = ServerConnection()\n",
    "\n",
    "# Desired plaintext, padded to 16 bytes\n",
    "desired_plaintext = b\"CBC Magic!\" + b'\\x06' * 6\n",
    "print(len(desired_plaintext), desired_plaintext)\n",
    "\n",
    "# Calculate the IV\n",
    "iv = bytes([a ^ b for a, b in zip(decrypted_block, desired_plaintext)])\n",
    "\n",
    "# Ciphertext is zero bytes\n",
    "ciphertext = bytes(16)\n",
    "\n",
    "print(len(iv), iv)\n",
    "print(len(ciphertext), ciphertext)\n",
    "# Send the IV and ciphertext to the server\n",
    "print()\n",
    "response = connection.send(iv, ciphertext)\n",
    "\n",
    "# Print the response\n",
    "print(response)"
   ]
  },
  {
   "cell_type": "code",
   "execution_count": null,
   "id": "a20db7bb",
   "metadata": {},
   "outputs": [],
   "source": []
  }
 ],
 "metadata": {
  "kernelspec": {
   "display_name": "py310",
   "language": "python",
   "name": "py310"
  },
  "language_info": {
   "codemirror_mode": {
    "name": "ipython",
    "version": 3
   },
   "file_extension": ".py",
   "mimetype": "text/x-python",
   "name": "python",
   "nbconvert_exporter": "python",
   "pygments_lexer": "ipython3",
   "version": "3.10.11"
  }
 },
 "nbformat": 4,
 "nbformat_minor": 5
}
