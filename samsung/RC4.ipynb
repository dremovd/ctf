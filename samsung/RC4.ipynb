{
 "cells": [
  {
   "cell_type": "code",
   "execution_count": 2,
   "id": "ff9fef34",
   "metadata": {},
   "outputs": [
    {
     "name": "stdout",
     "output_type": "stream",
     "text": [
      "b'cL3#\\xbd\\x82X\\x1d\\x9e[\\xbf\\xaa\\xeb\\x17!.\\xeb\\xfc\\x97[)\\xe3\\xf4E.\\xef\\xc0\\x8c\\t\\x063\\x08\\xa3RW\\xf1\\x83\\x1d\\x9e\\xb8\\nX;\\x8e(\\xc6\\xe4\\xd2\\x02\\x8d\\xf5\\xd5=\\xf8'\n",
      "b'bLSE\\xaf\\xb3IL\\xddc\\x94\\xbb\\xbf\\x06\\x04=\\xda\\xca\\xd3](\\xce\\xed\\x11+\\xb4\\xc8\\x82>E3+\\xebA`\\xdc\\xa8b\\xd8\\xa8\\nEd\\x9fz\\x96\\xe9\\xcb'\n"
     ]
    },
    {
     "data": {
      "text/plain": [
       "'SCTF{B10ck_c1pH3r_4nd_5tr3am_ciPheR_R_5ymm3tr1c}'"
      ]
     },
     "execution_count": 2,
     "metadata": {},
     "output_type": "execute_result"
    }
   ],
   "source": [
    "from binascii import unhexlify\n",
    "\n",
    "# Given ciphertexts\n",
    "ciphertext1_hex = \"634c3323bd82581d9e5bbfaaeb17212eebfc975b29e3f4452eefc08c09063308a35257f1831d9eb80a583b8e28c6e4d2028df5d53df8\"\n",
    "ciphertext2_hex = \"624c5345afb3494cdd6394bbbf06043ddacad35d28ceed112bb4c8823e45332beb4160dca862d8a80a45649f7a96e9cb\"\n",
    "\n",
    "# Converting to bytes\n",
    "ciphertext1 = unhexlify(ciphertext1_hex)\n",
    "ciphertext2 = unhexlify(ciphertext2_hex)\n",
    "print(ciphertext1)\n",
    "print(ciphertext2)\n",
    "\n",
    "# Known plaintext\n",
    "plaintext1 = b\"RC4 is a Stream Cipher, which is very simple and fast.\"\n",
    "\n",
    "# Finding the key stream used for encryption\n",
    "key_stream = bytes([c ^ p for c, p in zip(ciphertext1, plaintext1)])\n",
    "\n",
    "# Using the key stream to decrypt the second ciphertext\n",
    "flag = bytes([c ^ k for c, k in zip(ciphertext2, key_stream)])\n",
    "\n",
    "flag.decode()\n"
   ]
  },
  {
   "cell_type": "code",
   "execution_count": null,
   "id": "397706c2",
   "metadata": {},
   "outputs": [],
   "source": []
  }
 ],
 "metadata": {
  "kernelspec": {
   "display_name": "py310",
   "language": "python",
   "name": "py310"
  },
  "language_info": {
   "codemirror_mode": {
    "name": "ipython",
    "version": 3
   },
   "file_extension": ".py",
   "mimetype": "text/x-python",
   "name": "python",
   "nbconvert_exporter": "python",
   "pygments_lexer": "ipython3",
   "version": "3.10.11"
  }
 },
 "nbformat": 4,
 "nbformat_minor": 5
}
