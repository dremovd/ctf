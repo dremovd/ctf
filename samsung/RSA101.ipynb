{
 "cells": [
  {
   "cell_type": "code",
   "execution_count": 1,
   "id": "9018796b",
   "metadata": {},
   "outputs": [],
   "source": [
    "message = \"cat flag\""
   ]
  },
  {
   "cell_type": "code",
   "execution_count": 2,
   "id": "c0b01873",
   "metadata": {},
   "outputs": [],
   "source": [
    "from Crypto.Util.number import getStrongPrime, bytes_to_long, long_to_bytes"
   ]
  },
  {
   "cell_type": "code",
   "execution_count": 3,
   "id": "b50b3467",
   "metadata": {},
   "outputs": [],
   "source": [
    "import base64"
   ]
  },
  {
   "cell_type": "code",
   "execution_count": 19,
   "id": "bdb8acf4",
   "metadata": {},
   "outputs": [],
   "source": [
    "from sympy import factorint\n",
    "\n",
    "def fake_sign_message(n, e, sign_oracle, message):\n",
    "    # Split the message into two factors M1 and M2\n",
    "    factors = factorint(message)\n",
    "    M1 = list(factors.keys())[0]\n",
    "    M2 = message // M1\n",
    "    print(M1)\n",
    "    print(M2)\n",
    "\n",
    "    # Obtain the signatures of M1 and M2 using the signing oracle\n",
    "    S1 = sign_oracle(M1)\n",
    "    S2 = sign_oracle(M2)\n",
    "\n",
    "    # Compute the final signature using the homomorphic properties of RSA\n",
    "    S = (S1 * S2) % n\n",
    "\n",
    "    return base64.b64encode(long_to_bytes(S)).decode()\n"
   ]
  },
  {
   "cell_type": "code",
   "execution_count": 9,
   "id": "6fe7dfd6",
   "metadata": {},
   "outputs": [
    {
     "data": {
      "text/plain": [
       "7161132565001953639"
      ]
     },
     "execution_count": 9,
     "metadata": {},
     "output_type": "execute_result"
    }
   ],
   "source": [
    "message = bytes_to_long(message.encode())\n",
    "message"
   ]
  },
  {
   "cell_type": "code",
   "execution_count": 23,
   "id": "4fe68d41",
   "metadata": {},
   "outputs": [
    {
     "name": "stdout",
     "output_type": "stream",
     "text": [
      "103\n",
      "69525558883514113\n",
      "Sign me: 'Zw=='\n",
      "sbHvUhN8pgyIbO+9U/elcLPqu5fmp9dwLCZJ1z1/rXUYACPkm5DgRyPuX130prvy7Bn+ZaVbF9X11u48IR7wfBd5UpR+sEeGqUDfljIQofYYIhXGSF0K6BfKl4RFeaUSWgjGsV6q43DCiP9ts7KIdppqiSPm4v21OekW5eEYkQs=\n",
      "124781713223611329556192553287376753576154774573058196850572483289092647927149995024686430617564924759318685174609898877446069204927004844078429876064800376288636932877080364094078892222317583869704208377925724451519859068183079242076283135629808614991823631189539711816787511637424186115457975605182428909835\n",
      "Sign me: '9wEgoA/3AQ=='\n",
      "5l5+KcUnYA7A8vJIiGvnfsdJHia2xVNdqYssQXdql3dwTxe0RwglmeEXqdjFLHK2r5tIJMcBolekryOCgBqMrVgCq0M7Ppbi9n619jUAhXTQ9a+fNmHVutj5OkGC7TgnMDZij0tPGAeE+rouA17d6hg0gnoZPRA/4t5RfgMvc20=\n",
      "161770692265687054245373685795153240072149695512801866891199598984452440698498830135538838512556520710261034018838439471565736530910137629706278082889835685669732543267711586157861665999163856029575319813861447835226080119454396833109268416029638411050811424393586705971580613356123756968126388173139428209517\n"
     ]
    },
    {
     "data": {
      "text/plain": [
       "'y+ghr6nHnS1U5clHl5G4+Uz62ius35bADV7XLClh9BxZEieWr2A0bHkphaHvJb7AXLC1Uuyp82UUDNxJ5kGDvqEEJXdlvm01xnGpTlOddZ+uETohJC9X5PC5xPQ6CmWi5huEF8XHUMW0srh/e9wRgP8zPQ2Qy2CbKIBtS+awjuE='"
      ]
     },
     "execution_count": 23,
     "metadata": {},
     "output_type": "execute_result"
    }
   ],
   "source": [
    "n = 0xef91dc0c9d5d5828ecfc56b9301d2d0501329911f4cfbb30537a035ee5b17bd32a22dc30e411941481bcf98a7eb5913fbe045e187edf8c7af426c1b65226d7cf8d9ed5947f2b3d12cc03a0979b291c1a9248d228f11ea0fb770cbe7a3ba4d74b25f5b74c830a43c91132ac2b035a12591cd44c3847de69faf3c504221a9e3c73\n",
    "e = 0x10001\n",
    "\n",
    "def sign_oracle(x):\n",
    "    unsigned_bytes = base64.b64encode(long_to_bytes(x)).decode()\n",
    "    signed = input(prompt=f\"Sign me: '{unsigned_bytes}'\\n\")\n",
    "    signed_long = bytes_to_long(base64.b64decode(signed))\n",
    "    print(signed_long)\n",
    "    return signed_long\n",
    "\n",
    "fake_sign_message(n, e, sign_oracle, message)"
   ]
  },
  {
   "cell_type": "code",
   "execution_count": null,
   "id": "8daa79da",
   "metadata": {},
   "outputs": [],
   "source": []
  }
 ],
 "metadata": {
  "kernelspec": {
   "display_name": "py310",
   "language": "python",
   "name": "py310"
  },
  "language_info": {
   "codemirror_mode": {
    "name": "ipython",
    "version": 3
   },
   "file_extension": ".py",
   "mimetype": "text/x-python",
   "name": "python",
   "nbconvert_exporter": "python",
   "pygments_lexer": "ipython3",
   "version": "3.10.11"
  }
 },
 "nbformat": 4,
 "nbformat_minor": 5
}
